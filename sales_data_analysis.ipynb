{
 "cells": [
  {
   "cell_type": "code",
   "execution_count": 2,
   "id": "1566999d-0f61-4ac9-a28b-9b203a9f169e",
   "metadata": {},
   "outputs": [
    {
     "name": "stdout",
     "output_type": "stream",
     "text": [
      "   OrderID ProductID ProductName     Category   Price  Quantity   Total  \\\n",
      "0     1001      P001  Smartphone  Electronics  499.99         2  949.98   \n",
      "1     1002      P002      Laptop  Electronics  899.99         1  809.99   \n",
      "2     1003      P003  Headphones  Electronics   79.99         3  233.57   \n",
      "3     1004      P004  Desk Chair    Furniture  129.99         1  129.99   \n",
      "4     1005      P005      Camera  Electronics  349.99         2  629.98   \n",
      "\n",
      "    OrderDate  CustomerID    CustomerName        City State  \n",
      "0  2024-01-01       10001        John Doe     Anytown    CA  \n",
      "1  2024-01-02       10002      Jane Smith    TechCity    NY  \n",
      "2  2024-01-03       10003     Bob Johnson  Audioville    TX  \n",
      "3  2024-01-04       10004  Alice Williams    CozyTown    FL  \n",
      "4  2024-01-05       10005   Charlie Davis  Photoville    CA  \n"
     ]
    }
   ],
   "source": [
    "import pandas as pd\n",
    "\n",
    "sales_data = {\n",
    "    'OrderID': [1001, 1002, 1003, 1004, 1005],\n",
    "    'ProductID': ['P001', 'P002', 'P003', 'P004', 'P005'],\n",
    "    'ProductName': ['Smartphone', 'Laptop', 'Headphones', 'Desk Chair', 'Camera'],\n",
    "    'Category': ['Electronics', 'Electronics', 'Electronics', 'Furniture', 'Electronics'],\n",
    "    'Price': [499.99, 899.99, 79.99, 129.99, 349.99],\n",
    "    'Quantity': [2, 1, 3, 1, 2],\n",
    "    'Total': [949.98, 809.99, 233.57, 129.99, 629.98],\n",
    "    'OrderDate': ['2024-01-01', '2024-01-02', '2024-01-03', '2024-01-04', '2024-01-05'],\n",
    "    'CustomerID': [10001, 10002, 10003, 10004, 10005],\n",
    "    'CustomerName': ['John Doe', 'Jane Smith', 'Bob Johnson', 'Alice Williams', 'Charlie Davis'],\n",
    "    'City': ['Anytown', 'TechCity', 'Audioville', 'CozyTown', 'Photoville'],\n",
    "    'State': ['CA', 'NY', 'TX', 'FL', 'CA']\n",
    "}\n",
    "\n",
    "df = pd.DataFrame(sales_data)\n",
    "\n",
    "print(df)\n"
   ]
  },
  {
   "cell_type": "code",
   "execution_count": 3,
   "id": "dd202cef-8f91-472f-8069-34f7c43fa09f",
   "metadata": {},
   "outputs": [
    {
     "name": "stdout",
     "output_type": "stream",
     "text": [
      "Total Sale= 2753.5099999999998\n"
     ]
    }
   ],
   "source": [
    "total_sale=df[\"Total\"].sum()\n",
    "print(\"Total Sale=\",total_sale)"
   ]
  },
  {
   "cell_type": "code",
   "execution_count": 8,
   "id": "86d5ac98-8934-464f-9f0f-f868272e5cdd",
   "metadata": {},
   "outputs": [],
   "source": [
    "total_sale=df[\"Total\"].sum().round(2)"
   ]
  },
  {
   "cell_type": "code",
   "execution_count": 10,
   "id": "12c018de-fc15-4e30-b58a-e8087e566c45",
   "metadata": {},
   "outputs": [
    {
     "name": "stdout",
     "output_type": "stream",
     "text": [
      "Total sale= 2753.51\n"
     ]
    }
   ],
   "source": [
    "print(\"Total sale=\",total_sale)"
   ]
  },
  {
   "cell_type": "code",
   "execution_count": 11,
   "id": "b4214e77-7895-4d67-a60a-11c414e4df7a",
   "metadata": {},
   "outputs": [
    {
     "name": "stdout",
     "output_type": "stream",
     "text": [
      "Total quantity sold= 9\n"
     ]
    }
   ],
   "source": [
    "total_quantity_sold=df['Quantity'].sum()\n",
    "print(\"Total quantity sold=\",total_quantity_sold)"
   ]
  },
  {
   "cell_type": "code",
   "execution_count": 12,
   "id": "9f774d4f-c957-4ac4-b388-0bb5ca4b57cc",
   "metadata": {},
   "outputs": [
    {
     "name": "stdout",
     "output_type": "stream",
     "text": [
      "   OrderID ProductID ProductName     Category   Price  Quantity   Total  \\\n",
      "0     1001      P001  Smartphone  Electronics  499.99         2  949.98   \n",
      "1     1002      P002      Laptop  Electronics  899.99         1  809.99   \n",
      "2     1003      P003  Headphones  Electronics   79.99         3  233.57   \n",
      "3     1004      P004  Desk Chair    Furniture  129.99         1  129.99   \n",
      "4     1005      P005      Camera  Electronics  349.99         2  629.98   \n",
      "\n",
      "    OrderDate  CustomerID    CustomerName        City State  \n",
      "0  2024-01-01       10001        John Doe     Anytown    CA  \n",
      "1  2024-01-02       10002      Jane Smith    TechCity    NY  \n",
      "2  2024-01-03       10003     Bob Johnson  Audioville    TX  \n",
      "3  2024-01-04       10004  Alice Williams    CozyTown    FL  \n",
      "4  2024-01-05       10005   Charlie Davis  Photoville    CA  \n"
     ]
    }
   ],
   "source": [
    "print(df)"
   ]
  },
  {
   "cell_type": "code",
   "execution_count": 21,
   "id": "792359ed-4440-4368-bb7a-64deadc0db1f",
   "metadata": {},
   "outputs": [
    {
     "name": "stdout",
     "output_type": "stream",
     "text": [
      "Maximum sold product= Smartphone  and maximum sale amount= 949.98\n"
     ]
    }
   ],
   "source": [
    "max_sale_index=df['Total'].idxmax()\n",
    "max_sold_amount=df['Total'].max()\n",
    "max_sold_product=df.loc[max_sale_index,'ProductName']\n",
    "print(\"Maximum sold product=\",max_sold_product,\"\",\"and maximum sale amount=\",max_sold_amount) "
   ]
  },
  {
   "cell_type": "code",
   "execution_count": 20,
   "id": "76feec17-b486-4fec-8ccf-774a45905041",
   "metadata": {},
   "outputs": [
    {
     "name": "stdout",
     "output_type": "stream",
     "text": [
      "Minimum sold product= Desk Chair  and minimum sale amount= 129.99\n"
     ]
    }
   ],
   "source": [
    "min_sale_amount=df['Total'].min()\n",
    "min_sale_index=df['Total'].idxmin()\n",
    "min_sold_product=df.loc[min_sale_index,'ProductName']\n",
    "print(\"Minimum sold product=\",min_sold_product,\"\",\"and minimum sale amount=\",min_sale_amount)"
   ]
  },
  {
   "cell_type": "code",
   "execution_count": 23,
   "id": "a83a2b67-0620-4f24-974d-68c829197dcd",
   "metadata": {},
   "outputs": [
    {
     "name": "stdout",
     "output_type": "stream",
     "text": [
      "Customer name with maximum order= John Doe  and his customerid= 10001\n"
     ]
    }
   ],
   "source": [
    "max_order_customer=df.loc[max_sale_index,'CustomerName']\n",
    "max_order_cid=df.loc[max_sale_index,'CustomerID']\n",
    "print(\"Customer name with maximum order=\",max_order_customer,\"\",\"and his customerid=\",max_order_cid)"
   ]
  },
  {
   "cell_type": "code",
   "execution_count": 24,
   "id": "5c9c1a44-c052-4eb2-b1b9-dbeef7b61980",
   "metadata": {},
   "outputs": [
    {
     "name": "stdout",
     "output_type": "stream",
     "text": [
      "Customer name with minimum order= Alice Williams  and his customerid= 10004\n"
     ]
    }
   ],
   "source": [
    "min_order_customer=df.loc[min_sale_index,'CustomerName']\n",
    "min_order_cid=df.loc[min_sale_index,'CustomerID']\n",
    "print(\"Customer name with minimum order=\",min_order_customer,\"\",\"and his customerid=\",min_order_cid)"
   ]
  },
  {
   "cell_type": "code",
   "execution_count": 26,
   "id": "c0803dee-6783-4d6b-b388-713408d62046",
   "metadata": {},
   "outputs": [
    {
     "name": "stdout",
     "output_type": "stream",
     "text": [
      "State\n",
      "CA    1579.96\n",
      "FL     129.99\n",
      "NY     809.99\n",
      "TX     233.57\n",
      "Name: Total, dtype: float64\n"
     ]
    }
   ],
   "source": [
    "print(df.groupby('State')['Total'].sum().round(2))"
   ]
  },
  {
   "cell_type": "code",
   "execution_count": 29,
   "id": "c1309ad0-4e96-4f43-856a-c17f61339fe0",
   "metadata": {},
   "outputs": [
    {
     "name": "stdout",
     "output_type": "stream",
     "text": [
      "State with maximum sale= CA\n"
     ]
    }
   ],
   "source": [
    "print(\"State with maximum sale=\",df.loc[max_sale_index,'State'])"
   ]
  },
  {
   "cell_type": "code",
   "execution_count": 30,
   "id": "0faeb676-399c-493f-b69a-16374aa66855",
   "metadata": {},
   "outputs": [
    {
     "name": "stdout",
     "output_type": "stream",
     "text": [
      "State with minimum sale= FL\n"
     ]
    }
   ],
   "source": [
    "print(\"State with minimum sale=\",df.loc[min_sale_index,'State'])"
   ]
  },
  {
   "cell_type": "code",
   "execution_count": 31,
   "id": "083b28bc-f883-4414-a668-755e0b689a50",
   "metadata": {},
   "outputs": [],
   "source": [
    "df['CostPrice']=[400,800,60,100,300]"
   ]
  },
  {
   "cell_type": "code",
   "execution_count": 32,
   "id": "01fe8002-3d7e-472c-9d6b-58fc28ab8af5",
   "metadata": {},
   "outputs": [
    {
     "name": "stdout",
     "output_type": "stream",
     "text": [
      "   OrderID ProductID ProductName     Category   Price  Quantity   Total  \\\n",
      "0     1001      P001  Smartphone  Electronics  499.99         2  949.98   \n",
      "1     1002      P002      Laptop  Electronics  899.99         1  809.99   \n",
      "2     1003      P003  Headphones  Electronics   79.99         3  233.57   \n",
      "3     1004      P004  Desk Chair    Furniture  129.99         1  129.99   \n",
      "4     1005      P005      Camera  Electronics  349.99         2  629.98   \n",
      "\n",
      "    OrderDate  CustomerID    CustomerName        City State  CostPrice  \n",
      "0  2024-01-01       10001        John Doe     Anytown    CA        400  \n",
      "1  2024-01-02       10002      Jane Smith    TechCity    NY        800  \n",
      "2  2024-01-03       10003     Bob Johnson  Audioville    TX         60  \n",
      "3  2024-01-04       10004  Alice Williams    CozyTown    FL        100  \n",
      "4  2024-01-05       10005   Charlie Davis  Photoville    CA        300  \n"
     ]
    }
   ],
   "source": [
    "print(df)"
   ]
  },
  {
   "cell_type": "code",
   "execution_count": 40,
   "id": "51407f7b-4859-42fc-b6ec-d7df4d269c20",
   "metadata": {},
   "outputs": [],
   "source": [
    "df.drop('CostPrice',axis=1,inplace=True)"
   ]
  },
  {
   "cell_type": "code",
   "execution_count": 41,
   "id": "c4ad0d18-8819-4949-9c59-d90a3c9e34f0",
   "metadata": {},
   "outputs": [
    {
     "name": "stdout",
     "output_type": "stream",
     "text": [
      "   OrderID ProductID ProductName     Category   Price  Quantity   Total  \\\n",
      "0     1001      P001  Smartphone  Electronics  499.99         2  949.98   \n",
      "1     1002      P002      Laptop  Electronics  899.99         1  809.99   \n",
      "2     1003      P003  Headphones  Electronics   79.99         3  233.57   \n",
      "3     1004      P004  Desk Chair    Furniture  129.99         1  129.99   \n",
      "4     1005      P005      Camera  Electronics  349.99         2  629.98   \n",
      "\n",
      "    OrderDate  CustomerID    CustomerName        City State  \n",
      "0  2024-01-01       10001        John Doe     Anytown    CA  \n",
      "1  2024-01-02       10002      Jane Smith    TechCity    NY  \n",
      "2  2024-01-03       10003     Bob Johnson  Audioville    TX  \n",
      "3  2024-01-04       10004  Alice Williams    CozyTown    FL  \n",
      "4  2024-01-05       10005   Charlie Davis  Photoville    CA  \n"
     ]
    }
   ],
   "source": [
    "print(df)"
   ]
  },
  {
   "cell_type": "code",
   "execution_count": 42,
   "id": "fa713249-1ff0-4fb0-a2d8-fb0d68fd449c",
   "metadata": {},
   "outputs": [],
   "source": [
    "df.insert(4,'CostPrice',[400,800,60,100,300])"
   ]
  },
  {
   "cell_type": "code",
   "execution_count": 43,
   "id": "52a2b68c-374d-43e1-871b-2c1c6276f383",
   "metadata": {},
   "outputs": [
    {
     "name": "stdout",
     "output_type": "stream",
     "text": [
      "   OrderID ProductID ProductName     Category  CostPrice   Price  Quantity  \\\n",
      "0     1001      P001  Smartphone  Electronics        400  499.99         2   \n",
      "1     1002      P002      Laptop  Electronics        800  899.99         1   \n",
      "2     1003      P003  Headphones  Electronics         60   79.99         3   \n",
      "3     1004      P004  Desk Chair    Furniture        100  129.99         1   \n",
      "4     1005      P005      Camera  Electronics        300  349.99         2   \n",
      "\n",
      "    Total   OrderDate  CustomerID    CustomerName        City State  \n",
      "0  949.98  2024-01-01       10001        John Doe     Anytown    CA  \n",
      "1  809.99  2024-01-02       10002      Jane Smith    TechCity    NY  \n",
      "2  233.57  2024-01-03       10003     Bob Johnson  Audioville    TX  \n",
      "3  129.99  2024-01-04       10004  Alice Williams    CozyTown    FL  \n",
      "4  629.98  2024-01-05       10005   Charlie Davis  Photoville    CA  \n"
     ]
    }
   ],
   "source": [
    "print(df)"
   ]
  },
  {
   "cell_type": "code",
   "execution_count": 44,
   "id": "7dd4ab9a-08ce-4070-8807-3c4163e8d6ff",
   "metadata": {},
   "outputs": [],
   "source": [
    "df['Profit']=df['Total']-(df['CostPrice']*df['Quantity'])"
   ]
  },
  {
   "cell_type": "code",
   "execution_count": 45,
   "id": "0a115499-3232-42d4-8abb-b23efbc7ee69",
   "metadata": {},
   "outputs": [
    {
     "name": "stdout",
     "output_type": "stream",
     "text": [
      "   OrderID ProductID ProductName     Category  CostPrice   Price  Quantity  \\\n",
      "0     1001      P001  Smartphone  Electronics        400  499.99         2   \n",
      "1     1002      P002      Laptop  Electronics        800  899.99         1   \n",
      "2     1003      P003  Headphones  Electronics         60   79.99         3   \n",
      "3     1004      P004  Desk Chair    Furniture        100  129.99         1   \n",
      "4     1005      P005      Camera  Electronics        300  349.99         2   \n",
      "\n",
      "    Total   OrderDate  CustomerID    CustomerName        City State  Profit  \n",
      "0  949.98  2024-01-01       10001        John Doe     Anytown    CA  149.98  \n",
      "1  809.99  2024-01-02       10002      Jane Smith    TechCity    NY    9.99  \n",
      "2  233.57  2024-01-03       10003     Bob Johnson  Audioville    TX   53.57  \n",
      "3  129.99  2024-01-04       10004  Alice Williams    CozyTown    FL   29.99  \n",
      "4  629.98  2024-01-05       10005   Charlie Davis  Photoville    CA   29.98  \n"
     ]
    }
   ],
   "source": [
    "print(df)"
   ]
  },
  {
   "cell_type": "code",
   "execution_count": 48,
   "id": "6b168c60-1669-493d-9e87-fff5467d599f",
   "metadata": {},
   "outputs": [
    {
     "name": "stdout",
     "output_type": "stream",
     "text": [
      "Product with maximum profit= Smartphone  and Category with maximum profit= Electronics\n",
      "Product with minimum profit= Laptop  and Category with mainimum profit= Electronics\n"
     ]
    }
   ],
   "source": [
    "max_profit_index=df['Profit'].idxmax()\n",
    "max_profit_product=df.loc[max_profit_index,'ProductName']\n",
    "max_profit_category=df.loc[max_profit_index,'Category']\n",
    "min_profit_index=df['Profit'].idxmin()\n",
    "min_profit_product=df.loc[min_profit_index,'ProductName']\n",
    "min_profit_category=df.loc[min_profit_index,'Category']\n",
    "print(\"Product with maximum profit=\",max_profit_product,\"\",\"and Category with maximum profit=\",max_profit_category)\n",
    "print(\"Product with minimum profit=\",min_profit_product,\"\",\"and Category with mainimum profit=\",min_profit_category)\n",
    "\n"
   ]
  },
  {
   "cell_type": "code",
   "execution_count": 58,
   "id": "334be9f9-cb95-4c15-9592-3f08f2c99658",
   "metadata": {},
   "outputs": [],
   "source": [
    "df2=pd.DataFrame(df.groupby('State')['Total'].sum())"
   ]
  },
  {
   "cell_type": "code",
   "execution_count": 68,
   "id": "4ff56fa7-df59-4ade-a823-70572caad781",
   "metadata": {},
   "outputs": [
    {
     "name": "stdout",
     "output_type": "stream",
     "text": [
      "   OrderID ProductID ProductName     Category  CostPrice   Price  Quantity  \\\n",
      "0     1001      P001  Smartphone  Electronics        400  499.99         2   \n",
      "1     1002      P002      Laptop  Electronics        800  899.99         1   \n",
      "2     1003      P003  Headphones  Electronics         60   79.99         3   \n",
      "3     1004      P004  Desk Chair    Furniture        100  129.99         1   \n",
      "4     1005      P005      Camera  Electronics        300  349.99         2   \n",
      "\n",
      "    Total   OrderDate  CustomerID    CustomerName        City State  Profit  \n",
      "0  949.98  2024-01-01       10001        John Doe     Anytown    CA  149.98  \n",
      "1  809.99  2024-01-02       10002      Jane Smith    TechCity    NY    9.99  \n",
      "2  233.57  2024-01-03       10003     Bob Johnson  Audioville    TX   53.57  \n",
      "3  129.99  2024-01-04       10004  Alice Williams    CozyTown    FL   29.99  \n",
      "4  629.98  2024-01-05       10005   Charlie Davis  Photoville    CA   29.98  \n"
     ]
    }
   ],
   "source": [
    "print(df)"
   ]
  },
  {
   "cell_type": "code",
   "execution_count": 74,
   "id": "505bbfe2-20c6-4509-a389-0cbdf2c01a51",
   "metadata": {},
   "outputs": [
    {
     "data": {
      "image/png": "[encoded data removed]",
      "text/plain": [
       "<Figure size 432x288 with 1 Axes>"
      ]
     },
     "metadata": {
      "needs_background": "light"
     },
     "output_type": "display_data"
    }
   ],
   "source": [
    "import matplotlib.pyplot as plt\n",
    "import numpy as np\n",
    "x=np.array(df['ProductName'])\n",
    "y=np.array(df['Total'])\n",
    "plt.bar(x,y)\n",
    "plt.title(\"Product Wise Sale\")\n",
    "plt.show()"
   ]
  },
  {
   "cell_type": "code",
   "execution_count": 75,
   "id": "248c6709-8cfc-40d9-a15c-67362fc75863",
   "metadata": {},
   "outputs": [
    {
     "name": "stdout",
     "output_type": "stream",
     "text": [
      "Category\n",
      "Electronics    2623.52\n",
      "Furniture       129.99\n",
      "Name: Total, dtype: float64\n"
     ]
    }
   ],
   "source": [
    "print(df.groupby('Category')['Total'].sum().round(2))"
   ]
  },
  {
   "cell_type": "code",
   "execution_count": 76,
   "id": "1a017b2d-1469-4a72-8f78-d0e111cac22b",
   "metadata": {},
   "outputs": [
    {
     "name": "stdout",
     "output_type": "stream",
     "text": [
      "      Category  Sale_amount\n",
      "0  Electronics      2623.52\n",
      "1    Furniture       129.99\n"
     ]
    }
   ],
   "source": [
    "data2={\"Category\":[\"Electronics\",\"Furniture\"],\n",
    "       \"Sale_amount\":[2623.52,129.99]}\n",
    "df2=pd.DataFrame(data2)\n",
    "print(df2)"
   ]
  },
  {
   "cell_type": "code",
   "execution_count": 82,
   "id": "296cc03a-a6b5-48ec-a03f-bbab0e857446",
   "metadata": {},
   "outputs": [
    {
     "data": {
      "image/png": "[encoded data removed]",
      "text/plain": [
       "<Figure size 432x288 with 1 Axes>"
      ]
     },
     "metadata": {
      "needs_background": "light"
     },
     "output_type": "display_data"
    }
   ],
   "source": [
    "import matplotlib.pyplot as plt\n",
    "import numpy as np\n",
    "x=np.array(df2['Category'])\n",
    "y=np.array(df2['Sale_amount'])\n",
    "plt.plot(x,y,marker=\"o\",mfc=\"r\",mec=\"r\")\n",
    "plt.title(\"Category Wise Sale\")\n",
    "plt.show()"
   ]
  },
  {
   "cell_type": "code",
   "execution_count": 96,
   "id": "8467f049-e5bb-462e-a604-eb7b2f6dfbd4",
   "metadata": {},
   "outputs": [
    {
     "data": {
      "image/png": "[encoded data removed]",
      "text/plain": [
       "<Figure size 432x288 with 1 Axes>"
      ]
     },
     "metadata": {},
     "output_type": "display_data"
    }
   ],
   "source": [
    "import matplotlib.pyplot as plt\n",
    "import numpy as np\n",
    "y=np.array(df['Profit'])\n",
    "products=(df['ProductName'])\n",
    "my_explode=[0.1,0.1,0.1,0.1,0.1]\n",
    "plt.pie(y,labels=products,explode=my_explode,shadow=True)\n",
    "plt.legend(title=\"Products\")\n",
    "plt.title(\"Product Wise Profit\")\n",
    "plt.show()"
   ]
  },
  {
   "cell_type": "code",
   "execution_count": 110,
   "id": "a8db35b7-a072-4419-9785-8800479c17b0",
   "metadata": {},
   "outputs": [
    {
     "data": {
      "image/png": "[encoded data removed]",
      "text/plain": [
       "<Figure size 432x288 with 2 Axes>"
      ]
     },
     "metadata": {
      "needs_background": "light"
     },
     "output_type": "display_data"
    }
   ],
   "source": [
    "import matplotlib.pyplot as plt\n",
    "import numpy as np\n",
    "x=np.array(df['CustomerName'])\n",
    "y1=np.array(df['Total'])\n",
    "y2=np.array(df['Quantity'])\n",
    "plt.subplots_adjust(left=0.1, right=3, top=2, bottom=0.1)\n",
    "\n",
    "plt.subplot(1,2,1)\n",
    "\n",
    "plt.plot(x,y1,marker=\"o\",mfc=\"r\",mec=\"r\",ms=10)\n",
    "plt.title(\"Customer Wise Sales\",size=20)\n",
    "plt.grid()\n",
    "plt.subplot(1,2,2,)\n",
    "plt.plot(x,y2,marker=\"o\",mfc=\"r\",mec=\"r\",ms=10)\n",
    "plt.title(\"Quantity Ordered By Customers\",size=20)\n",
    "plt.grid()\n",
    "plt.show()"
   ]
  },
  {
   "cell_type": "code",
   "execution_count": 112,
   "id": "a78a0d33-90ed-4ca4-b557-e83491f3efe8",
   "metadata": {},
   "outputs": [
    {
     "name": "stdout",
     "output_type": "stream",
     "text": [
      "State\n",
      "CA    1579.96\n",
      "FL     129.99\n",
      "NY     809.99\n",
      "TX     233.57\n",
      "Name: Total, dtype: float64\n"
     ]
    }
   ],
   "source": [
    "print(df.groupby('State')['Total'].sum().round(2))"
   ]
  },
  {
   "cell_type": "code",
   "execution_count": 114,
   "id": "7c06e559-e9eb-4be1-af8c-44233187765e",
   "metadata": {},
   "outputs": [
    {
     "name": "stdout",
     "output_type": "stream",
     "text": [
      "  State     Sale\n",
      "0    CA  1579.96\n",
      "1    FL   129.99\n",
      "2    NY   809.99\n",
      "3    TX   233.57\n"
     ]
    }
   ],
   "source": [
    "data3={\"State\":[\"CA\",\"FL\",\"NY\",\"TX\"],\n",
    "                'Sale':[1579.96,129.99,809.99,233.57]}\n",
    "df3=pd.DataFrame(data3)\n",
    "print(df3)\n",
    "\n"
   ]
  },
  {
   "cell_type": "code",
   "execution_count": 117,
   "id": "ed70a328-40fb-488b-a256-89358ac737f0",
   "metadata": {},
   "outputs": [
    {
     "data": {
      "image/png": "[encoded data removed]",
      "text/plain": [
       "<Figure size 432x288 with 1 Axes>"
      ]
     },
     "metadata": {
      "needs_background": "light"
     },
     "output_type": "display_data"
    }
   ],
   "source": [
    "import matplotlib.pyplot as plt\n",
    "import numpy as np\n",
    "x=np.array(df3['State'])\n",
    "y=np.array(df3['Sale'])\n",
    "plt.barh(x,y)\n",
    "plt.grid()\n",
    "plt.title(\"State Wise Sale\")\n",
    "plt.show()"
   ]
  },
  {
   "cell_type": "code",
   "execution_count": null,
   "id": "645c1bae-223f-4f23-845a-50d999aa3d21",
   "metadata": {},
   "outputs": [],
   "source": []
  }
 ],
 "metadata": {
  "kernelspec": {
   "display_name": "Python 3 (ipykernel)",
   "language": "python",
   "name": "python3"
  },
  "language_info": {
   "codemirror_mode": {
    "name": "ipython",
    "version": 3
   },
   "file_extension": ".py",
   "mimetype": "text/x-python",
   "name": "python",
   "nbconvert_exporter": "python",
   "pygments_lexer": "ipython3",
   "version": "3.10.9"
  }
 },
 "nbformat": 4,
 "nbformat_minor": 5
}
